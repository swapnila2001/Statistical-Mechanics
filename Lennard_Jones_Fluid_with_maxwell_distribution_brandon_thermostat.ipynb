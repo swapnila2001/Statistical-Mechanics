{
 "cells": [
  {
   "cell_type": "code",
   "execution_count": 37,
   "metadata": {
    "executionInfo": {
     "elapsed": 4,
     "status": "ok",
     "timestamp": 1645012438311,
     "user": {
      "displayName": "Abhinav Gupta",
      "photoUrl": "https://lh3.googleusercontent.com/a/default-user=s64",
      "userId": "16056252826196756543"
     },
     "user_tz": -330
    },
    "id": "1CzRnSUbYV2E"
   },
   "outputs": [],
   "source": [
    "import numpy as np\n",
    "import math\n",
    "from tqdm import tqdm\n",
    "import matplotlib.pyplot as plt\n",
    "%matplotlib inline\n",
    "import seaborn as sns\n",
    "import pandas as pd\n",
    "import scipy.stats as stats\n",
    "from scipy.stats import maxwell\n",
    "from scipy.stats import norm"
   ]
  },
  {
   "cell_type": "code",
   "execution_count": 38,
   "metadata": {
    "executionInfo": {
     "elapsed": 3,
     "status": "ok",
     "timestamp": 1645012441417,
     "user": {
      "displayName": "Abhinav Gupta",
      "photoUrl": "https://lh3.googleusercontent.com/a/default-user=s64",
      "userId": "16056252826196756543"
     },
     "user_tz": -330
    },
    "id": "Q0fw2bTbYV2G"
   },
   "outputs": [],
   "source": [
    "rcut = 3.0  ##### Cut-off distance. If distance between atoms is greater than this, interaction between them is ignored.\n",
    "rcutsquare = rcut**2\n",
    "g2 = 1./rcutsquare\n",
    "g6 = g2*g2*g2\n",
    "potcut = 4.*g6*(g6-1) ##### Term to be subtracted from pair potential energy"
   ]
  },
  {
   "cell_type": "code",
   "execution_count": 39,
   "metadata": {
    "executionInfo": {
     "elapsed": 2,
     "status": "ok",
     "timestamp": 1645012443243,
     "user": {
      "displayName": "Abhinav Gupta",
      "photoUrl": "https://lh3.googleusercontent.com/a/default-user=s64",
      "userId": "16056252826196756543"
     },
     "user_tz": -330
    },
    "id": "i51VhivYYV2G"
   },
   "outputs": [],
   "source": [
    "##### Function to compute acceleration for a pair of atoms. r12 is relative displacement of atoms.\n",
    "\n",
    "def acceleration(r12): \n",
    "    r12square = np.dot(r12,r12)\n",
    "    f2 = 1./r12square\n",
    "    f6 = f2*f2*f2\n",
    "    acc = 48.*f2*f6*(f6-0.5)*r12\n",
    "    return acc"
   ]
  },
  {
   "cell_type": "code",
   "execution_count": 40,
   "metadata": {
    "executionInfo": {
     "elapsed": 2,
     "status": "ok",
     "timestamp": 1645012446176,
     "user": {
      "displayName": "Abhinav Gupta",
      "photoUrl": "https://lh3.googleusercontent.com/a/default-user=s64",
      "userId": "16056252826196756543"
     },
     "user_tz": -330
    },
    "id": "n8B7Y76QYV2H"
   },
   "outputs": [],
   "source": [
    "#### Function to compute potential energy for the system of particles. `pos' is the array of position vectors.\n",
    "def potentialenergy(pos):\n",
    "    potential = 0.\n",
    "    for i in range(Natoms-1):\n",
    "        for j in range(i+1,Natoms):\n",
    "            rij = pos[i] - pos[j] ## Relative position vector of the pair\n",
    "            for l in range(2):  ### Calculating the correct separation between particles because of periodic boundary conditions.\n",
    "                if abs(rij[l])>0.5*L: rij[l] -= L*np.sign(rij[l])  ### rij is the separation b/w the particles and we need the minimum distance\n",
    "            rijsquare = np.dot(rij,rij)\n",
    "            if rijsquare < rcutsquare: # Imposing interaction cut-off\n",
    "                f2 = 1./rijsquare\n",
    "                f6 = f2*f2*f2\n",
    "                potential += 4.*f6*(f6-1.) - potcut\n",
    "    return potential"
   ]
  },
  {
   "cell_type": "code",
   "execution_count": 41,
   "metadata": {
    "executionInfo": {
     "elapsed": 643,
     "status": "ok",
     "timestamp": 1645012449259,
     "user": {
      "displayName": "Abhinav Gupta",
      "photoUrl": "https://lh3.googleusercontent.com/a/default-user=s64",
      "userId": "16056252826196756543"
     },
     "user_tz": -330
    },
    "id": "tT49TSmdYV2H"
   },
   "outputs": [],
   "source": [
    "number = 5\n",
    "Natoms = number**2  # No. of atoms\n",
    "Ratom = 0.5  ### Radius of atom used to illustrate the atom as a sphere. (sigma is the dimensionless scale here so ratom= sigma * 0.5)\n",
    "rho = 0.5 ### Number Density\n",
    "L = math.pow(Natoms/rho,0.5) # Length of a side of the square containing the gas.\n",
    "T0 = 120. # Natural temperature scale, T0 = epsilon/k.\n",
    "T = 0.1   # Temperature in Kelvin # mean K.E. equal to this\n",
    "dt = 1E-2  # Time step for Verlet Algorithm\n"
   ]
  },
  {
   "cell_type": "code",
   "execution_count": 42,
   "metadata": {
    "executionInfo": {
     "elapsed": 396,
     "status": "ok",
     "timestamp": 1645012452289,
     "user": {
      "displayName": "Abhinav Gupta",
      "photoUrl": "https://lh3.googleusercontent.com/a/default-user=s64",
      "userId": "16056252826196756543"
     },
     "user_tz": -330
    },
    "id": "12feYni7YV2I"
   },
   "outputs": [],
   "source": [
    "###### Atoms are arranged initially in a square lattice configuration with spacing between neighbors equal to equilibrium separation of the potential energy.\n",
    "\n",
    "equilib_sep = math.pow(2.,1./6.)  ## Equilibrium separation of atoms\n",
    "wall_spacing = (L-(number-1)*equilib_sep)/2.  ## Distance betwee the walls and the initial array of atoms.\n",
    "poslist = []  # List for positions of atoms\n",
    "vlist = []   # List for velocities\n",
    "\n",
    "\n",
    "\n",
    "\n",
    "################  Initialize positions and velocities ##############################################\n",
    "x, y = wall_spacing, wall_spacing\n",
    "\n",
    "for i in range(number):\n",
    "    for j in range(number):\n",
    "        xi, yi = x + equilib_sep*j, y + equilib_sep*i\n",
    "        poslist.append((xi,yi))\n",
    "\n",
    "\n",
    "####### Initially, all particles have the same speed but random velocity directions. ################\n",
    "v0 = math.sqrt(2.*T/T0)\n",
    "\n",
    "for i in range(Natoms):\n",
    "    phi = 2*np.pi*np.random.random()\n",
    "    vx = v0*np.cos(phi)\n",
    "    vy = v0*np.sin(phi)\n",
    "    vlist.append((vx,vy))\n",
    "###################################################################################################\n",
    "\n",
    "\n",
    "\n",
    "\n",
    "pos = np.array(poslist)  ### Converts lists to numpy arrays\n",
    "v = np.array(vlist) ## Scaled velocity\n",
    "\n",
    "\n",
    "V_cm = np.sum(v, axis = 0)/Natoms ## Correcting for CM velocity.\n",
    "V = np.array([V_cm,]*Natoms)\n",
    "v -= V  \n"
   ]
  },
  {
   "cell_type": "code",
   "execution_count": 43,
   "metadata": {
    "executionInfo": {
     "elapsed": 377,
     "status": "ok",
     "timestamp": 1645012457936,
     "user": {
      "displayName": "Abhinav Gupta",
      "photoUrl": "https://lh3.googleusercontent.com/a/default-user=s64",
      "userId": "16056252826196756543"
     },
     "user_tz": -330
    },
    "id": "Xe2w1iR0YV2J"
   },
   "outputs": [],
   "source": [
    "time = 0. # Initial time.\n",
    "t_final = 50. # Time upto which simulation is carried out.\n",
    "\n",
    "potential_energy = potentialenergy(pos)\n",
    "kinetic_energy = 0.5*sum(np.square(v).sum(axis=1))\n",
    "energy = kinetic_energy + potential_energy\n",
    "Time_List = [time]\n",
    "Energy_List = [energy]\n",
    "PotentialEnergy_List = [potential_energy]\n",
    "KineticEnergy_List = [kinetic_energy]\n",
    "V_array=[]\n",
    "k_m=T\n",
    "iterations = int(t_final/dt) # Number of iterations of the Verlet Algorithm."
   ]
  },
  {
   "cell_type": "code",
   "execution_count": 44,
   "metadata": {
    "colab": {
     "base_uri": "https://localhost:8080/"
    },
    "executionInfo": {
     "elapsed": 22486,
     "status": "ok",
     "timestamp": 1645012483054,
     "user": {
      "displayName": "Abhinav Gupta",
      "photoUrl": "https://lh3.googleusercontent.com/a/default-user=s64",
      "userId": "16056252826196756543"
     },
     "user_tz": -330
    },
    "id": "dWLHWFPEYV2J",
    "outputId": "26f61300-d63b-4425-9b3d-beba394105e6"
   },
   "outputs": [
    {
     "name": "stderr",
     "output_type": "stream",
     "text": [
      "100%|██████████| 5000/5000 [00:50<00:00, 99.59it/s] "
     ]
    },
    {
     "name": "stdout",
     "output_type": "stream",
     "text": [
      "0.09993464723442327\n"
     ]
    },
    {
     "name": "stderr",
     "output_type": "stream",
     "text": [
      "\n"
     ]
    }
   ],
   "source": [
    "##################################### The Verlet Algorithm Loop ###################################\n",
    "for step in tqdm(range(iterations)):\n",
    "    pos += v*dt/2. ## Updating positions.\n",
    "    for i in range(Natoms): ## Imposing periodic boundary conditions.\n",
    "        for j in range(2):\n",
    "            if pos[i][j] > L: pos[i][j] -= L\n",
    "            elif pos[i][j] < 0: pos[i][j] += L\n",
    "    accel = np.zeros((Natoms,2)) ## Initialising acceleration array.\n",
    "    for i in range(Natoms-1):\n",
    "        for j in range(i+1,Natoms):\n",
    "            rij = pos[i] - pos[j]\n",
    "            for l in range(2):  ### Calculating the correct separation between particles.\n",
    "                if abs(rij[l])>0.5*L: rij[l] -= L*np.sign(rij[l])\n",
    "            if np.dot(rij,rij) < rcutsquare:\n",
    "                acc = acceleration(rij) # Computing acceleration for a pair of particles.\n",
    "                accel[i] += acc\n",
    "                accel[j] -= acc\n",
    "    v += accel*dt  ## Updating velocities.\n",
    "    pos += v*dt/2. ## Final updating of positions.\n",
    "    for i in range(Natoms): ## Imposing periodic boundary conditions.\n",
    "        for j in range(2):\n",
    "            if pos[i][j] > L: pos[i][j] -= L\n",
    "            elif pos[i][j] < 0: pos[i][j] += L\n",
    "                \n",
    "    potential_energy = potentialenergy(pos)\n",
    "    kinetic_energy = 0.5*sum(np.square(v).sum(axis=1))\n",
    "    \n",
    "    #scaling\n",
    "    if(step<4000):\n",
    "        if(step%10==0):\n",
    "            k_mean=np.mean(kinetic_energy)/Natoms\n",
    "            scale= np.sqrt(k_m/k_mean)\n",
    "            v=v*scale\n",
    "    energy = kinetic_energy + potential_energy\n",
    "    Energy_List.append(energy)\n",
    "    PotentialEnergy_List.append(potential_energy)\n",
    "    KineticEnergy_List.append(kinetic_energy)\n",
    "    time += dt\n",
    "    Time_List.append(time)\n",
    "    if(time>10):\n",
    "        for h in range (0,Natoms):\n",
    "            V_array.append(np.sqrt(np.dot(v[h],v[h])))\n",
    "            \n",
    "T_eq=np.mean(np.array(KineticEnergy_List))/Natoms\n",
    "print(T_eq)"
   ]
  },
  {
   "cell_type": "code",
   "execution_count": 45,
   "metadata": {
    "colab": {
     "base_uri": "https://localhost:8080/",
     "height": 313
    },
    "executionInfo": {
     "elapsed": 918,
     "status": "ok",
     "timestamp": 1645012528164,
     "user": {
      "displayName": "Abhinav Gupta",
      "photoUrl": "https://lh3.googleusercontent.com/a/default-user=s64",
      "userId": "16056252826196756543"
     },
     "user_tz": -330
    },
    "id": "KAw-BSVGYV2K",
    "outputId": "29d979c7-e833-46a0-97f5-b4aaca1641a6"
   },
   "outputs": [
    {
     "data": {
      "text/plain": [
       "[<matplotlib.lines.Line2D at 0x21912e67190>]"
      ]
     },
     "execution_count": 45,
     "metadata": {},
     "output_type": "execute_result"
    },
    {
     "data": {
      "image/png": "[encoded data removed]",
      "text/plain": [
       "<Figure size 432x288 with 1 Axes>"
      ]
     },
     "metadata": {
      "needs_background": "light"
     },
     "output_type": "display_data"
    }
   ],
   "source": [
    "plt.xlabel('t') # Label for the x-axis\n",
    "plt.ylabel('Energy') # Label for the y-axis\n",
    "plt.title('Energy vs Time') # Title of plot\n",
    "#plt.plot(Time_List,Energy_List, color = 'r') \n",
    "#plt.plot(Time_List,PotentialEnergy_List, color = 'b')\n",
    "plt.plot(Time_List,KineticEnergy_List, color = 'g')\n"
   ]
  },
  {
   "cell_type": "code",
   "execution_count": 46,
   "metadata": {
    "id": "CcZlX78AYoh5"
   },
   "outputs": [
    {
     "data": {
      "image/png": "[encoded data removed]",
      "text/plain": [
       "<Figure size 432x288 with 1 Axes>"
      ]
     },
     "metadata": {
      "needs_background": "light"
     },
     "output_type": "display_data"
    }
   ],
   "source": [
    "max_fun= []\n",
    "for x in V_array:\n",
    "    fun= x*(math.exp(-x**2/(2*T_eq)))/T_eq\n",
    "    max_fun.append(fun)\n",
    "sns.distplot(V_array,bins=40, hist_kws={'edgecolor':'black'},axlabel=\"velocity intervals\",kde=False, norm_hist=True)\n",
    "plt.title(\"Maxwell dsiturbution curve(density) of velocities \")\n",
    "plt.plot(V_array, max_fun,'o',ms=0.2)\n",
    "plt.show()"
   ]
  },
  {
   "cell_type": "code",
   "execution_count": 47,
   "metadata": {},
   "outputs": [
    {
     "data": {
      "image/png": "[encoded data removed]",
      "text/plain": [
       "<Figure size 432x288 with 1 Axes>"
      ]
     },
     "metadata": {
      "needs_background": "light"
     },
     "output_type": "display_data"
    }
   ],
   "source": [
    "def create_picture(positions):\n",
    "    plt.cla()\n",
    "    plt.gca().set_aspect('equal')\n",
    "    plt.axis([0, L, 0, L])\n",
    "    plt.setp(plt.gca(), xticks=[0, L], yticks=[0, L])\n",
    "    for x,y in positions:\n",
    "        atom = plt.Circle((x, y), 0.5, fc='r')\n",
    "        plt.gca().add_patch(atom)\n",
    "create_picture(pos)"
   ]
  },
  {
   "cell_type": "markdown",
   "metadata": {},
   "source": []
  },
  {
   "cell_type": "code",
   "execution_count": null,
   "metadata": {},
   "outputs": [],
   "source": []
  }
 ],
 "metadata": {
  "colab": {
   "name": "Lennard_Jones_Fluid.ipynb",
   "provenance": []
  },
  "kernelspec": {
   "display_name": "Python 3",
   "language": "python",
   "name": "python3"
  },
  "language_info": {
   "codemirror_mode": {
    "name": "ipython",
    "version": 3
   },
   "file_extension": ".py",
   "mimetype": "text/x-python",
   "name": "python",
   "nbconvert_exporter": "python",
   "pygments_lexer": "ipython3",
   "version": "3.8.3"
  }
 },
 "nbformat": 4,
 "nbformat_minor": 1
}
