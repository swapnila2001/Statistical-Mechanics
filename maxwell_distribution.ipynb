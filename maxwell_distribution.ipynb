{
 "cells": [
  {
   "cell_type": "code",
   "execution_count": 31,
   "metadata": {},
   "outputs": [],
   "source": [
    "import numpy as np\n",
    "import matplotlib.pyplot as plt\n",
    "%matplotlib inline\n",
    "import math\n",
    "import random\n",
    "import seaborn as sns\n",
    "import pandas as pd\n",
    "import scipy.stats as stats\n",
    "from scipy.stats import maxwell\n",
    "from scipy.stats import norm"
   ]
  },
  {
   "cell_type": "code",
   "execution_count": 32,
   "metadata": {},
   "outputs": [],
   "source": [
    "#####  Function to compute time for wall collision ######\n",
    "def wall_time(coord, velcomp, rad):  \n",
    "    if velcomp > 0.0:\n",
    "        del_t = (1.0 - rad - coord) / velcomp\n",
    "    elif velcomp < 0.0:\n",
    "        del_t = (coord - rad) / abs(velcomp)\n",
    "    else:\n",
    "        del_t = float('inf')\n",
    "    return del_t\n",
    "\n",
    "\n",
    "# Function to calculate time it takes for a pair of particles to collide. \n",
    "# pos1 and pos2 are positions of particles 1 and 2, vel1 and vel2 are their \n",
    "# velocities. rad is the radius of the particles. \n",
    "def pair_time(pos1, vel1, pos2, vel2, rad):  \n",
    "    rel_pos = pos2 - pos1\n",
    "    rel_vel = vel2 - vel1\n",
    "    rel_dist_squar = np.dot(rel_pos,rel_pos)\n",
    "    rel_speed_squar = np.dot(rel_vel,rel_vel)\n",
    "    scal_prod = np.dot(rel_pos,rel_vel)\n",
    "    a = scal_prod ** 2 - rel_speed_squar * ( rel_dist_squar - 4.0 * rad **2)\n",
    "    if a > 0.0 and scal_prod < 0.0: ## Conditions for collision.\n",
    "        del_t = - (scal_prod + np.sqrt(a)) / rel_speed_squar ## Collision time.\n",
    "    else:\n",
    "        del_t = float('inf')\n",
    "    return del_t\n",
    "\n",
    "\n",
    "# Function to generate an image of the disk configuration in the box.\n",
    "def create_picture(positions):\n",
    "    plt.cla()\n",
    "    plt.gca().set_aspect('equal')\n",
    "    plt.axis([0, L, 0, L])\n",
    "    plt.setp(plt.gca(), xticks=[0, L], yticks=[0, L])\n",
    "    for x,y in positions:\n",
    "        atom = plt.Circle((x, y), Ratom, fc='r')\n",
    "        plt.gca().add_patch(atom)\n",
    "      "
   ]
  },
  {
   "cell_type": "code",
   "execution_count": 33,
   "metadata": {},
   "outputs": [
    {
     "name": "stdout",
     "output_type": "stream",
     "text": [
      "0.063078313050504\n",
      "[[0.12615663 0.12615663]\n",
      " [0.31539157 0.12615663]\n",
      " [0.5046265  0.12615663]\n",
      " [0.69386144 0.12615663]\n",
      " [0.12615663 0.31539157]\n",
      " [0.31539157 0.31539157]\n",
      " [0.5046265  0.31539157]\n",
      " [0.69386144 0.31539157]\n",
      " [0.12615663 0.5046265 ]\n",
      " [0.31539157 0.5046265 ]\n",
      " [0.5046265  0.5046265 ]\n",
      " [0.69386144 0.5046265 ]\n",
      " [0.12615663 0.69386144]\n",
      " [0.31539157 0.69386144]\n",
      " [0.5046265  0.69386144]\n",
      " [0.69386144 0.69386144]]\n",
      "[[ 0.96383512  0.62796873]\n",
      " [-0.71674846 -0.8007346 ]\n",
      " [ 0.4679767   0.61974464]\n",
      " [-0.71155913 -0.49231024]\n",
      " [ 0.97369212  0.77518559]\n",
      " [-0.33366888 -0.85290724]\n",
      " [ 0.95139949  0.10230629]\n",
      " [-0.73031449 -0.34195498]\n",
      " [ 0.45565629  0.50471491]\n",
      " [-0.13108854 -0.35361199]\n",
      " [ 0.98401896  0.7566717 ]\n",
      " [-0.33130386 -0.38594092]\n",
      " [ 0.64967579  0.11502004]\n",
      " [-0.23357754 -0.46563489]\n",
      " [ 0.08446255  0.62595476]\n",
      " [-0.32367751 -0.14346421]]\n"
     ]
    },
    {
     "data": {
      "image/png": "[encoded data removed]",
      "text/plain": [
       "<Figure size 432x288 with 1 Axes>"
      ]
     },
     "metadata": {
      "needs_background": "light"
     },
     "output_type": "display_data"
    }
   ],
   "source": [
    "L = 1. ## Box edge length\n",
    "N_s=4\n",
    "Natoms = int((N_s)**2) # Number of disks\n",
    "density = 0.2 # Fraction of the area of the box covered by the disks\n",
    "Ratom = np.sqrt(density/(Natoms*np.pi))   ## Radius of disk.\n",
    "print(Ratom)\n",
    "\n",
    "\n",
    "## List indexing all pairs of atoms.\n",
    "pairs = [[i,j] for i in range(Natoms) for j in range(i+1, Natoms)] \n",
    "\n",
    "## Positions and velocities of disks.\n",
    "positions = np.zeros((Natoms,2))\n",
    "velocities = np.zeros((Natoms,2))\n",
    "\n",
    "for i in range (0,Natoms):\n",
    "        positions[i][0]=Ratom*(3*(i%N_s)+2)\n",
    "        positions[i][1]=Ratom*(3*(i//N_s)+2)\n",
    "        velocities[i][0]=((-1)**i)*random.random()\n",
    "        velocities[i][1]=((-1)**(i%2))*random.random()\n",
    "print(positions)\n",
    "print(velocities)\n",
    "n_events = 20000 # Number of collision events.\n",
    "create_picture(positions)\n",
    "#################################################################################"
   ]
  },
  {
   "cell_type": "code",
   "execution_count": 34,
   "metadata": {},
   "outputs": [
    {
     "name": "stdout",
     "output_type": "stream",
     "text": [
      "[[0.54003992 0.67670148]\n",
      " [0.62401163 0.83959658]\n",
      " [0.86029568 0.0866553 ]\n",
      " [0.91372691 0.38520108]\n",
      " [0.59747199 0.42232808]\n",
      " [0.75181434 0.33348294]\n",
      " [0.67355286 0.6773059 ]\n",
      " [0.45834626 0.8113321 ]\n",
      " [0.20349804 0.72628337]\n",
      " [0.39482148 0.41049274]\n",
      " [0.24299705 0.25676731]\n",
      " [0.90506727 0.56672059]\n",
      " [0.79751354 0.5007836 ]\n",
      " [0.15097866 0.40065033]\n",
      " [0.4260455  0.57181428]\n",
      " [0.83641424 0.85894471]]\n",
      "[[ 0.79109196  0.40347446]\n",
      " [ 0.72495218 -0.63248975]\n",
      " [-0.04235697  0.81920872]\n",
      " [ 0.27679946 -0.21625704]\n",
      " [-0.78145723  0.72590106]\n",
      " [-0.24816218  0.31957956]\n",
      " [ 0.38694358 -0.11774468]\n",
      " [ 1.13973311  0.87378245]\n",
      " [ 0.49561184  0.41096446]\n",
      " [ 1.39324376  0.47282893]\n",
      " [-0.10980351 -1.07531355]\n",
      " [ 0.47204198  0.31152572]\n",
      " [-0.7330427  -0.38932225]\n",
      " [ 0.11629873  0.11728185]\n",
      " [ 0.50147857 -0.46683767]\n",
      " [-0.34826417  0.081034  ]]\n"
     ]
    }
   ],
   "source": [
    " ############### Event Loop ##############################################\n",
    "t = 0.0 # Initial time\n",
    "def event_loop(positions,velocities,t):\n",
    "     # Wall collision times for all disks and their velocity components.\n",
    "    wall_times = [wall_time(positions[i][j], velocities[i][j], Ratom) for i in range(Natoms) for j in range(2)] \n",
    "    # Pair collision times\n",
    "    pair_times = [pair_time(positions[i], velocities[i], positions[j], velocities[j], Ratom) for i,j in pairs] \n",
    "    # The next collision event is the minimum of wall and pair collision times.\n",
    "    next_event = min(wall_times + pair_times)  \n",
    "    t += next_event \n",
    "    #print(t)\n",
    "    for i in range(Natoms):\n",
    "        positions[i] += velocities[i]*next_event # Evolve positions to collision event\n",
    "    if min(wall_times) < min(pair_times): # Check if next event is a collision with a wall\n",
    "        wall_index = wall_times.index(next_event)\n",
    "        particle, component = divmod(wall_index, 2)\n",
    "        velocities[particle][component] *= -1.0 ## Velocity component normal to wall changes sign\n",
    "    else:\n",
    "        pair_index = pair_times.index(next_event)\n",
    "        particle_1, particle_2 = pairs[pair_index] # Indices of particles participating in collision.\n",
    "        rel_pos = positions[particle_2] - positions[particle_1]\n",
    "        rel_vel = velocities[particle_2] - velocities[particle_1]\n",
    "        distance = np.sqrt(np.dot(rel_pos,rel_pos))\n",
    "        unit_perp = rel_pos/distance\n",
    "        scal_prod = np.dot(rel_vel,unit_perp)\n",
    "        velocities[particle_1] += scal_prod*unit_perp # Change in velocities of atoms colliding with each other\n",
    "        velocities[particle_2] -= scal_prod*unit_perp\n",
    "    return positions,velocities,t\n",
    "V_array=[]\n",
    "P_array=[]\n",
    "for event in range(n_events):\n",
    "    positions,velocities,t=event_loop(positions,velocities,t)\n",
    "    if(event>5000):\n",
    "        for h in range (0,Natoms):\n",
    "            V_array.append(np.sqrt(np.dot(velocities[h],velocities[h])))\n",
    "            P_array.append(np.sqrt(np.dot(positions[h],positions[h])))\n",
    "print(positions)\n",
    "print(velocities)\n",
    "#print(V_array)\n",
    "##################################################################################"
   ]
  },
  {
   "cell_type": "code",
   "execution_count": 35,
   "metadata": {},
   "outputs": [
    {
     "data": {
      "image/png": "[encoded data removed]",
      "text/plain": [
       "<Figure size 432x288 with 1 Axes>"
      ]
     },
     "metadata": {
      "needs_background": "light"
     },
     "output_type": "display_data"
    }
   ],
   "source": [
    "create_picture(positions)"
   ]
  },
  {
   "cell_type": "code",
   "execution_count": 36,
   "metadata": {},
   "outputs": [
    {
     "data": {
      "image/png": "[encoded data removed]",
      "text/plain": [
       "<Figure size 432x288 with 1 Axes>"
      ]
     },
     "metadata": {
      "needs_background": "light"
     },
     "output_type": "display_data"
    }
   ],
   "source": [
    "#plt.hist(V_array, bins=20, density=True)\n",
    "sns.distplot(V_array,bins=40, hist_kws={'edgecolor':'black'}, fit=maxwell ,axlabel=\"velocity intervals\",kde=False)\n",
    "plt.title(\"Maxwell dsiturbution curve(density) of velocities \")\n",
    "plt.show()"
   ]
  },
  {
   "cell_type": "code",
   "execution_count": 37,
   "metadata": {},
   "outputs": [],
   "source": [
    "##https://indianaiproduction.com/seaborn-histogram-using-seaborn-distplot/  -- link for histogram commands"
   ]
  },
  {
   "cell_type": "code",
   "execution_count": 38,
   "metadata": {},
   "outputs": [
    {
     "data": {
      "text/plain": [
       "<matplotlib.axes._subplots.AxesSubplot at 0x1830f86fc10>"
      ]
     },
     "execution_count": 38,
     "metadata": {},
     "output_type": "execute_result"
    },
    {
     "data": {
      "image/png": "[encoded data removed]",
      "text/plain": [
       "<Figure size 432x288 with 1 Axes>"
      ]
     },
     "metadata": {
      "needs_background": "light"
     },
     "output_type": "display_data"
    }
   ],
   "source": [
    "sns.distplot(P_array,bins=40, hist_kws={'edgecolor':'black'} ,axlabel=\"velocity intervals\",kde=False)  ## this plot is wrong"
   ]
  },
  {
   "cell_type": "code",
   "execution_count": null,
   "metadata": {},
   "outputs": [],
   "source": []
  }
 ],
 "metadata": {
  "kernelspec": {
   "display_name": "Python 3",
   "language": "python",
   "name": "python3"
  },
  "language_info": {
   "codemirror_mode": {
    "name": "ipython",
    "version": 3
   },
   "file_extension": ".py",
   "mimetype": "text/x-python",
   "name": "python",
   "nbconvert_exporter": "python",
   "pygments_lexer": "ipython3",
   "version": "3.8.3"
  }
 },
 "nbformat": 4,
 "nbformat_minor": 4
}
