{
 "cells": [
  {
   "cell_type": "code",
   "execution_count": 8,
   "metadata": {},
   "outputs": [],
   "source": [
    "import numpy as np\n",
    "import matplotlib.pyplot as plt\n",
    "%matplotlib inline\n",
    "import math\n",
    "import random\n",
    "import seaborn as sns\n",
    "import pandas as pd\n",
    "import scipy.stats as stats\n",
    "from scipy.stats import maxwell\n",
    "from scipy.stats import norm"
   ]
  },
  {
   "cell_type": "code",
   "execution_count": 9,
   "metadata": {},
   "outputs": [],
   "source": [
    "#####  Function to compute time for wall collision ######\n",
    "def wall_time(coord, velcomp, rad):  \n",
    "    if velcomp > 0.0:\n",
    "        del_t = (1.0 - rad - coord) / velcomp\n",
    "    elif velcomp < 0.0:\n",
    "        del_t = (coord - rad) / abs(velcomp)\n",
    "    else:\n",
    "        del_t = float('inf')\n",
    "    return del_t\n",
    "\n",
    "\n",
    "# Function to calculate time it takes for a pair of particles to collide. \n",
    "# pos1 and pos2 are positions of particles 1 and 2, vel1 and vel2 are their \n",
    "# velocities. rad is the radius of the particles. \n",
    "def pair_time(pos1, vel1, pos2, vel2, rad):  \n",
    "    rel_pos = pos2 - pos1\n",
    "    rel_vel = vel2 - vel1\n",
    "    rel_dist_squar = np.dot(rel_pos,rel_pos)\n",
    "    rel_speed_squar = np.dot(rel_vel,rel_vel)\n",
    "    scal_prod = np.dot(rel_pos,rel_vel)\n",
    "    a = scal_prod ** 2 - rel_speed_squar * ( rel_dist_squar - 4.0 * rad **2)\n",
    "    if a > 0.0 and scal_prod < 0.0: ## Conditions for collision.\n",
    "        del_t = - (scal_prod + np.sqrt(a)) / rel_speed_squar ## Collision time.\n",
    "    else:\n",
    "        del_t = float('inf')\n",
    "    return del_t\n",
    "\n",
    "\n",
    "# Function to generate an image of the disk configuration in the box.\n",
    "def create_picture(positions):\n",
    "    plt.cla()\n",
    "    plt.gca().set_aspect('equal')\n",
    "    plt.axis([0, L, 0, L])\n",
    "    plt.setp(plt.gca(), xticks=[0, L], yticks=[0, L])\n",
    "    for x,y in positions:\n",
    "        atom = plt.Circle((x, y), Ratom, fc='r')\n",
    "        plt.gca().add_patch(atom)\n",
    "      "
   ]
  },
  {
   "cell_type": "code",
   "execution_count": 10,
   "metadata": {},
   "outputs": [
    {
     "name": "stdout",
     "output_type": "stream",
     "text": [
      "0.063078313050504\n",
      "[[0.12615663 0.12615663]\n",
      " [0.31539157 0.12615663]\n",
      " [0.5046265  0.12615663]\n",
      " [0.69386144 0.12615663]\n",
      " [0.12615663 0.31539157]\n",
      " [0.31539157 0.31539157]\n",
      " [0.5046265  0.31539157]\n",
      " [0.69386144 0.31539157]\n",
      " [0.12615663 0.5046265 ]\n",
      " [0.31539157 0.5046265 ]\n",
      " [0.5046265  0.5046265 ]\n",
      " [0.69386144 0.5046265 ]\n",
      " [0.12615663 0.69386144]\n",
      " [0.31539157 0.69386144]\n",
      " [0.5046265  0.69386144]\n",
      " [0.69386144 0.69386144]]\n",
      "[[ 0.58687674  0.42432521]\n",
      " [-0.48909659 -0.27092334]\n",
      " [ 0.12727203  0.76369507]\n",
      " [-0.4025824  -0.14441452]\n",
      " [ 0.72456321  0.34586229]\n",
      " [-0.07028906 -0.55352324]\n",
      " [ 0.76278857  0.9005406 ]\n",
      " [-0.53751368 -0.4196788 ]\n",
      " [ 0.8172014   0.14467509]\n",
      " [-0.71403185 -0.98960624]\n",
      " [ 0.57613072  0.27676044]\n",
      " [-0.52868127 -0.13470758]\n",
      " [ 0.0686595   0.30864817]\n",
      " [-0.54789892 -0.76897821]\n",
      " [ 0.80274613  0.63834193]\n",
      " [-0.87880009 -0.25778388]]\n"
     ]
    },
    {
     "data": {
      "image/png": "[encoded data removed]",
      "text/plain": [
       "<Figure size 432x288 with 1 Axes>"
      ]
     },
     "metadata": {
      "needs_background": "light"
     },
     "output_type": "display_data"
    }
   ],
   "source": [
    "L = 1. ## Box edge length\n",
    "N_s=4\n",
    "Natoms = int((N_s)**2) # Number of disks\n",
    "density = 0.2 # Fraction of the area of the box covered by the disks\n",
    "Ratom = np.sqrt(density/(Natoms*np.pi))   ## Radius of disk.\n",
    "print(Ratom)\n",
    "\n",
    "\n",
    "## List indexing all pairs of atoms.\n",
    "pairs = [[i,j] for i in range(Natoms) for j in range(i+1, Natoms)] \n",
    "\n",
    "## Positions and velocities of disks.\n",
    "positions = np.zeros((Natoms,2))\n",
    "velocities = np.zeros((Natoms,2))\n",
    "\n",
    "for i in range (0,Natoms):\n",
    "        positions[i][0]=Ratom*(3*(i%N_s)+2)\n",
    "        positions[i][1]=Ratom*(3*(i//N_s)+2)\n",
    "        velocities[i][0]=((-1)**i)*random.random()\n",
    "        velocities[i][1]=((-1)**(i%2))*random.random()\n",
    "print(positions)\n",
    "print(velocities)\n",
    "n_events = 20000 # Number of collision events.\n",
    "create_picture(positions)\n",
    "#################################################################################"
   ]
  },
  {
   "cell_type": "code",
   "execution_count": 11,
   "metadata": {},
   "outputs": [
    {
     "name": "stdout",
     "output_type": "stream",
     "text": [
      "[[0.21846613 0.92699082]\n",
      " [0.06539549 0.88204704]\n",
      " [0.18805132 0.08152475]\n",
      " [0.80285864 0.50350537]\n",
      " [0.55042901 0.18837767]\n",
      " [0.71720494 0.24217261]\n",
      " [0.53245765 0.34504946]\n",
      " [0.64725482 0.75421559]\n",
      " [0.855474   0.31133475]\n",
      " [0.40065658 0.49933326]\n",
      " [0.77705638 0.74793729]\n",
      " [0.14564553 0.30777732]\n",
      " [0.6136006  0.06897084]\n",
      " [0.82395406 0.92229279]\n",
      " [0.51073667 0.83278892]\n",
      " [0.79528585 0.14308241]]\n",
      "[[ 0.00631285  0.4321219 ]\n",
      " [ 0.10178589 -0.39483301]\n",
      " [-0.08712774  0.58370158]\n",
      " [ 0.18843538  0.04870354]\n",
      " [-0.01363707  0.41916023]\n",
      " [ 0.3098921   0.04277014]\n",
      " [-0.37430967  0.25437202]\n",
      " [ 0.04202335  1.06277789]\n",
      " [-0.65391154 -0.5347109 ]\n",
      " [ 1.75302954 -0.87989863]\n",
      " [-0.35492415 -0.13353345]\n",
      " [ 0.17177917  0.50786482]\n",
      " [-0.60458184 -0.32234453]\n",
      " [-1.02217524  0.29838995]\n",
      " [ 0.57692907 -0.05104498]\n",
      " [-0.49309463 -0.82247135]]\n"
     ]
    }
   ],
   "source": [
    " ############### Event Loop ##############################################\n",
    "t = 0.0 # Initial time\n",
    "V_array=[]\n",
    "P_array=[]\n",
    "for event in range(n_events):\n",
    "     # Wall collision times for all disks and their velocity components.\n",
    "    wall_times = [wall_time(positions[i][j], velocities[i][j], Ratom) for i in range(Natoms) for j in range(2)] \n",
    "    # Pair collision times\n",
    "    pair_times = [pair_time(positions[i], velocities[i], positions[j], velocities[j], Ratom) for i,j in pairs] \n",
    "    # The next collision event is the minimum of wall and pair collision times.\n",
    "    next_event = min(wall_times + pair_times)  \n",
    "    t += next_event \n",
    "    #print(t)\n",
    "    for i in range(Natoms):\n",
    "        positions[i] += velocities[i]*next_event # Evolve positions to collision event\n",
    "    if min(wall_times) < min(pair_times): # Check if next event is a collision with a wall\n",
    "        wall_index = wall_times.index(next_event)\n",
    "        particle, component = divmod(wall_index, 2)\n",
    "        velocities[particle][component] *= -1.0 ## Velocity component normal to wall changes sign\n",
    "    else:\n",
    "        pair_index = pair_times.index(next_event)\n",
    "        particle_1, particle_2 = pairs[pair_index] # Indices of particles participating in collision.\n",
    "        rel_pos = positions[particle_2] - positions[particle_1]\n",
    "        rel_vel = velocities[particle_2] - velocities[particle_1]\n",
    "        distance = np.sqrt(np.dot(rel_pos,rel_pos))\n",
    "        unit_perp = rel_pos/distance\n",
    "        scal_prod = np.dot(rel_vel,unit_perp)\n",
    "        velocities[particle_1] += scal_prod*unit_perp # Change in velocities of atoms colliding with each other\n",
    "        velocities[particle_2] -= scal_prod*unit_perp\n",
    "    if(event>5000):\n",
    "        for h in range (0,Natoms):\n",
    "            V_array.append(np.sqrt(np.dot(velocities[h],velocities[h])))\n",
    "            #P_array.append(np.sqrt(np.dot(positions[h],positions[h])))\n",
    "print(positions)\n",
    "print(velocities)\n",
    "#print(P_array)\n",
    "##################################################################################"
   ]
  },
  {
   "cell_type": "code",
   "execution_count": 12,
   "metadata": {},
   "outputs": [
    {
     "data": {
      "image/png": "[encoded data removed]",
      "text/plain": [
       "<Figure size 432x288 with 1 Axes>"
      ]
     },
     "metadata": {
      "needs_background": "light"
     },
     "output_type": "display_data"
    }
   ],
   "source": [
    "create_picture(positions)"
   ]
  },
  {
   "cell_type": "code",
   "execution_count": 13,
   "metadata": {},
   "outputs": [
    {
     "data": {
      "image/png": "[encoded data removed]",
      "text/plain": [
       "<Figure size 432x288 with 1 Axes>"
      ]
     },
     "metadata": {
      "needs_background": "light"
     },
     "output_type": "display_data"
    }
   ],
   "source": [
    "#plt.hist(V_array, bins=20, density=True)\n",
    "sns.distplot(V_array,bins=40, hist_kws={'edgecolor':'black'}, fit=maxwell ,axlabel=\"velocity intervals\",kde=False)\n",
    "plt.title(\"Maxwell dsiturbution curve(density) of velocities \")\n",
    "plt.show()"
   ]
  },
  {
   "cell_type": "code",
   "execution_count": 14,
   "metadata": {},
   "outputs": [],
   "source": [
    "##https://indianaiproduction.com/seaborn-histogram-using-seaborn-distplot/  -- link for histogram commands"
   ]
  },
  {
   "cell_type": "code",
   "execution_count": null,
   "metadata": {},
   "outputs": [],
   "source": []
  }
 ],
 "metadata": {
  "kernelspec": {
   "display_name": "Python 3",
   "language": "python",
   "name": "python3"
  },
  "language_info": {
   "codemirror_mode": {
    "name": "ipython",
    "version": 3
   },
   "file_extension": ".py",
   "mimetype": "text/x-python",
   "name": "python",
   "nbconvert_exporter": "python",
   "pygments_lexer": "ipython3",
   "version": "3.8.3"
  }
 },
 "nbformat": 4,
 "nbformat_minor": 4
}
