{
 "cells": [
  {
   "cell_type": "code",
   "execution_count": 1,
   "metadata": {
    "id": "TNYpJfHpO2VI"
   },
   "outputs": [],
   "source": [
    "import numpy as np\n",
    "import matplotlib.pyplot as plt\n",
    "%matplotlib inline"
   ]
  },
  {
   "cell_type": "code",
   "execution_count": 2,
   "metadata": {
    "id": "lXMCBRYOO2Vf"
   },
   "outputs": [],
   "source": [
    "#####  Function to compute time for wall collision ######\n",
    "def wall_time(coord, velcomp, rad):  \n",
    "    if velcomp > 0.0:\n",
    "        del_t = (1.0 - rad - coord) / velcomp\n",
    "    elif velcomp < 0.0:\n",
    "        del_t = (coord - rad) / abs(velcomp)\n",
    "    else:\n",
    "        del_t = float('inf')\n",
    "    return del_t\n",
    "\n",
    "\n",
    "# Function to calculate time it takes for a pair of particles to collide. \n",
    "# pos1 and pos2 are positions of particles 1 and 2, vel1 and vel2 are their \n",
    "# velocities. rad is the radius of the particles. \n",
    "def pair_time(pos1, vel1, pos2, vel2, rad):  \n",
    "    rel_pos = pos2 - pos1\n",
    "    rel_vel = vel2 - vel1\n",
    "    rel_dist_squar = np.dot(rel_pos,rel_pos)\n",
    "    rel_speed_squar = np.dot(rel_vel,rel_vel)\n",
    "    scal_prod = np.dot(rel_pos,rel_vel)\n",
    "    a = scal_prod ** 2 - rel_speed_squar * ( rel_dist_squar - 4.0 * rad **2)\n",
    "    if a > 0.0 and scal_prod < 0.0: ## Conditions for collision.\n",
    "        del_t = - (scal_prod + np.sqrt(a)) / rel_speed_squar ## Collision time.\n",
    "    else:\n",
    "        del_t = float('inf')\n",
    "    return del_t\n",
    "\n",
    "\n",
    "# Function to generate an image of the disk configuration in the box.\n",
    "def create_picture(positions):\n",
    "    plt.cla()\n",
    "    plt.gca().set_aspect('equal')\n",
    "    plt.axis([0, L, 0, L])\n",
    "    plt.setp(plt.gca(), xticks=[0, L], yticks=[0, L])\n",
    "    for x,y in positions:\n",
    "        atom = plt.Circle((x, y), Ratom, fc='r')\n",
    "        plt.gca().add_patch(atom)\n",
    "      "
   ]
  },
  {
   "cell_type": "code",
   "execution_count": 3,
   "metadata": {
    "id": "IAUP29Y8O2Vh"
   },
   "outputs": [
    {
     "data": {
      "image/png": "[encoded data removed]",
      "text/plain": [
       "<Figure size 432x288 with 1 Axes>"
      ]
     },
     "metadata": {
      "needs_background": "light"
     },
     "output_type": "display_data"
    }
   ],
   "source": [
    "######################### Initialization #################################\n",
    "L = 1. ## Box edge length\n",
    "Natoms = 4  # Number of disks\n",
    "density = 0.2 # Fraction of the area of the box covered by the disks\n",
    "Ratom = np.sqrt(density/(Natoms*np.pi))   ## Radius of disk.\n",
    "\n",
    "\n",
    "## List indexing all pairs of atoms.\n",
    "pairs = [[i,j] for i in range(Natoms) for j in range(i+1, Natoms)] \n",
    "\n",
    "## Positions and velocities of disks.\n",
    "positions_1 = np.array([[0.3,0.3],[0.4,0.6],[0.6, 0.3], [0.7,0.6]])\n",
    "velocities_1 = np.array([[0.5,0.5],[1.,1.],[0.,1.],[0.,0.]])\n",
    "\n",
    "positions_2 = np.array([[0.2,0.3],[0.4,0.6],[0.6, 0.3], [0.7,0.6]])\n",
    "velocities_2 = np.array([[0.55,0.58],[1.18,1.],[0.,1.],[0.,0.]])\n",
    "\n",
    "\n",
    "n_events = 50 # Number of collision events.\n",
    "create_picture(positions_1)\n",
    "#################################################################################"
   ]
  },
  {
   "cell_type": "code",
   "execution_count": 4,
   "metadata": {
    "id": "Q8bNF8kuO2Vj"
   },
   "outputs": [
    {
     "name": "stdout",
     "output_type": "stream",
     "text": [
      "[[0.12615663 0.19399382]\n",
      " [0.58141661 0.72433252]\n",
      " [0.7858638  0.52069383]\n",
      " [0.84631279 0.79520648]]\n",
      "[[ 1.21119645  0.0548678 ]\n",
      " [ 0.48440576  0.28652409]\n",
      " [ 0.62455421  1.12897361]\n",
      " [-0.02610795  0.21889883]]\n"
     ]
    }
   ],
   "source": [
    " ############### Event Loop ##############################################\n",
    "t = 0.0 # Initial time\n",
    "def event_loop(positions,velocities,t):\n",
    "     # Wall collision times for all disks and their velocity components.\n",
    "    wall_times = [wall_time(positions[i][j], velocities[i][j], Ratom) for i in range(Natoms) for j in range(2)] \n",
    "    # Pair collision times\n",
    "    pair_times = [pair_time(positions[i], velocities[i], positions[j], velocities[j], Ratom) for i,j in pairs] \n",
    "    # The next collision event is the minimum of wall and pair collision times.\n",
    "    next_event = min(wall_times + pair_times)  \n",
    "    t += next_event \n",
    "    for i in range(Natoms):\n",
    "        positions[i] += velocities[i]*next_event # Evolve positions to collision event\n",
    "    if min(wall_times) < min(pair_times): # Check if next event is a collision with a wall\n",
    "        wall_index = wall_times.index(next_event)\n",
    "        particle, component = divmod(wall_index, 2)\n",
    "        velocities[particle][component] *= -1.0 ## Velocity component normal to wall changes sign\n",
    "    else:\n",
    "        pair_index = pair_times.index(next_event)\n",
    "        particle_1, particle_2 = pairs[pair_index] # Indices of particles participating in collision.\n",
    "        rel_pos = positions[particle_2] - positions[particle_1]\n",
    "        rel_vel = velocities[particle_2] - velocities[particle_1]\n",
    "        distance = np.sqrt(np.dot(rel_pos,rel_pos))\n",
    "        unit_perp = rel_pos/distance\n",
    "        scal_prod = np.dot(rel_vel,unit_perp)\n",
    "        velocities[particle_1] += scal_prod*unit_perp # Change in velocities of atoms colliding with each other\n",
    "        velocities[particle_2] -= scal_prod*unit_perp\n",
    "    return positions,velocities,t\n",
    "number_list=[]\n",
    "event_list=[]\n",
    "for event in range(n_events):\n",
    "    event_list.append(event)\n",
    "    diff_sum=0\n",
    "    velo_sum=0\n",
    "    for m in range(Natoms):\n",
    "        vel_diff=velocities_1[m]-velocities_2[m]\n",
    "        diff_sum += np.dot(vel_diff,vel_diff)\n",
    "        velo_sum += np.dot(velocities_1[m],velocities_1[m])\n",
    "    diml_number=diff_sum/velo_sum\n",
    "    number_list.append(diml_number)\n",
    "    positions_1,velocities_1,t=event_loop(positions_1,velocities_1,t)\n",
    "    positions_2,velocities_2,t=event_loop(positions_2,velocities_2,t)\n",
    "print(positions_1)\n",
    "print(velocities_1)\n",
    "##################################################################################\n",
    "#print(number_list)"
   ]
  },
  {
   "cell_type": "code",
   "execution_count": 5,
   "metadata": {
    "colab": {
     "base_uri": "https://localhost:8080/",
     "height": 269
    },
    "id": "dxzZcpFWO2Vl",
    "outputId": "e21b9d8b-c070-47b7-d52e-d6c67d17e6c8"
   },
   "outputs": [
    {
     "data": {
      "image/png": "[encoded data removed]",
      "text/plain": [
       "<Figure size 432x288 with 1 Axes>"
      ]
     },
     "metadata": {
      "needs_background": "light"
     },
     "output_type": "display_data"
    }
   ],
   "source": [
    "create_picture(positions_1)"
   ]
  },
  {
   "cell_type": "markdown",
   "metadata": {
    "id": "uOyRH0vUGlTD"
   },
   "source": []
  },
  {
   "cell_type": "code",
   "execution_count": 61,
   "metadata": {
    "id": "ygZCm9KzO2Vp"
   },
   "outputs": [
    {
     "data": {
      "text/plain": [
       "Text(0, 0.5, 'number to measure chaos')"
      ]
     },
     "execution_count": 61,
     "metadata": {},
     "output_type": "execute_result"
    },
    {
     "data": {
      "image/png": "[encoded data removed]",
      "text/plain": [
       "<Figure size 432x288 with 1 Axes>"
      ]
     },
     "metadata": {
      "needs_background": "light"
     },
     "output_type": "display_data"
    }
   ],
   "source": [
    "plt.plot(event_list,number_list)\n",
    "plt.xlabel('no. of events')\n",
    "plt.ylabel('number to measure chaos')"
   ]
  },
  {
   "cell_type": "markdown",
   "metadata": {},
   "source": [
    "### Time reversibility"
   ]
  },
  {
   "cell_type": "code",
   "execution_count": 62,
   "metadata": {},
   "outputs": [
    {
     "name": "stdout",
     "output_type": "stream",
     "text": [
      "initial positions= [[0.3 0.3]\n",
      " [0.4 0.6]\n",
      " [0.6 0.3]\n",
      " [0.7 0.6]]\n",
      "initial velocities= [[0.5 0.5]\n",
      " [1.  1. ]\n",
      " [0.  1. ]\n",
      " [0.  0. ]]\n",
      "final_positions= [[0.75012024 0.62098359]\n",
      " [0.54425405 0.46921162]\n",
      " [0.59296027 0.12615663]\n",
      " [0.13315405 0.80749982]]\n",
      "final_velocities= [[-0.03982039 -0.77215191]\n",
      " [-0.1087258  -0.60611774]\n",
      " [-0.38253686  0.57755304]\n",
      " [-1.31306134  0.56476871]]\n",
      "time taken= 6.8933637217730155\n",
      "initial positions after time reversal= [[0.32654935 0.3263181 ]\n",
      " [0.45309526 0.6527514 ]\n",
      " [0.59951223 0.35259606]\n",
      " [0.69994483 0.60052815]]\n",
      "initial velocities after time reversal= [[-0.49934927 -0.50145915]\n",
      " [-0.9889315  -1.00603022]\n",
      " [-0.00850895 -1.00442335]\n",
      " [-0.00380499  0.01239147]]\n",
      "time taken= 6.840544108906614\n"
     ]
    }
   ],
   "source": [
    "positions_st = np.array([[0.3,0.3],[0.4,0.6],[0.6, 0.3], [0.7,0.6]])\n",
    "velocities_st = np.array([[0.5,0.5],[1.,1.],[0.,1.],[0.,0.]])\n",
    "print(\"initial positions=\",positions_st)\n",
    "print(\"initial velocities=\",velocities_st)\n",
    "n_events_t=100\n",
    "t_f=0\n",
    "for event in range(n_events_t):\n",
    "    positions_st,velocities_st,t_f=event_loop(positions_st,velocities_st,t_f)\n",
    "print(\"final_positions=\",positions_st)\n",
    "print(\"final_velocities=\",velocities_st)\n",
    "print(\"time taken=\",t_f)\n",
    "\n",
    "for q in range(4):\n",
    "    for p in range(2):\n",
    "        velocities_st[q][p]= -1* velocities_st[q][p]\n",
    "\n",
    "t_m=0\n",
    "for event in range(n_events_t):\n",
    "    positions_st,velocities_st,t_m=event_loop(positions_st,velocities_st,t_m)\n",
    "    if(t_m>=t_f):\n",
    "        break\n",
    "\n",
    "print(\"initial positions after time reversal=\",positions_st)\n",
    "print(\"initial velocities after time reversal=\",velocities_st)\n",
    "print(\"time taken=\",t_m)"
   ]
  },
  {
   "cell_type": "code",
   "execution_count": null,
   "metadata": {},
   "outputs": [],
   "source": []
  }
 ],
 "metadata": {
  "colab": {
   "collapsed_sections": [],
   "name": "Hard_Disks.ipynb",
   "provenance": []
  },
  "kernelspec": {
   "display_name": "Python 3",
   "language": "python",
   "name": "python3"
  },
  "language_info": {
   "codemirror_mode": {
    "name": "ipython",
    "version": 3
   },
   "file_extension": ".py",
   "mimetype": "text/x-python",
   "name": "python",
   "nbconvert_exporter": "python",
   "pygments_lexer": "ipython3",
   "version": "3.8.3"
  }
 },
 "nbformat": 4,
 "nbformat_minor": 1
}
